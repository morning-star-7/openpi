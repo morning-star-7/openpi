{
    "cells": [
        {
            "cell_type": "markdown",
            "metadata": {},
            "source": [
                "# to get start\n",
                "- source .venv/bin/activate or use conda env\n",
                "- jupyter notebook --port 8899 --ip 0.0.0.0 [in new terminal, not in vscode]\n",
                "\n",
                "[recommand]\n",
                "- also, we can you conda activate openpi. then select env upper right."
            ]
        },
        {
            "cell_type": "markdown",
            "metadata": {},
            "source": [
                "# pi0 deployment details\n",
                "\n",
                "### domain shitf\n",
                "- wrist camera mount\n",
                "- camera type: ZED\n",
                "- resilution: In droid: (180, 320, 3) | realsense (480, 640,3)"
            ]
        },
        {
            "cell_type": "code",
            "execution_count": 2,
            "metadata": {},
            "outputs": [],
            "source": [
                "import dataclasses\n",
                "\n",
                "import jax\n",
                "\n",
                "from openpi.models import model as _model\n",
                "from openpi.policies import droid_policy\n",
                "from openpi.policies import policy_config as _policy_config\n",
                "from openpi.shared import download\n",
                "from openpi.training import config as _config\n",
                "from openpi.training import data_loader as _data_loader\n",
                "\n",
                "import Pyro5.api\n",
                "import numpy as np"
            ]
        },
        {
            "cell_type": "markdown",
            "metadata": {},
            "source": [
                "# Policy inference\n",
                "\n",
                "The following example shows how to create a policy from a checkpoint and run inference on a dummy example."
            ]
        },
        {
            "cell_type": "code",
            "execution_count": 3,
            "metadata": {},
            "outputs": [
                {
                    "name": "stderr",
                    "output_type": "stream",
                    "text": [
                        "Some kwargs in processor config are unused and will not have any effect: min_token, time_horizon, action_dim, vocab_size, scale. \n",
                        "Some kwargs in processor config are unused and will not have any effect: min_token, time_horizon, action_dim, vocab_size, scale. \n"
                    ]
                },
                {
                    "name": "stdout",
                    "output_type": "stream",
                    "text": [
                        "Actions shape: (10, 8)\n"
                    ]
                }
            ],
            "source": [
                "config = _config.get_config(\"pi0_fast_droid\")\n",
                "checkpoint_dir = download.maybe_download(\"gs://openpi-assets/checkpoints/pi0_fast_droid\")\n",
                "\n",
                "# Create a trained policy.\n",
                "policy = _policy_config.create_trained_policy(config, checkpoint_dir)\n",
                "\n",
                "# Run inference on a dummy example. This example corresponds to observations produced by the DROID runtime.\n",
                "example = droid_policy.make_droid_example()\n",
                "result = policy.infer(example)\n",
                "\n",
                "# Delete the policy to free up memory.\n",
                "del policy\n",
                "\n",
                "print(\"Actions shape:\", result[\"actions\"].shape)"
            ]
        },
        {
            "cell_type": "code",
            "execution_count": 4,
            "metadata": {},
            "outputs": [
                {
                    "name": "stdout",
                    "output_type": "stream",
                    "text": [
                        "Actions shape: (10, 8)\n"
                    ]
                }
            ],
            "source": [
                "config = _config.get_config(\"pi0_droid\")\n",
                "checkpoint_dir = download.maybe_download(\"gs://openpi-assets/checkpoints/pi0_droid\")\n",
                "\n",
                "# Create a trained policy.\n",
                "policy = _policy_config.create_trained_policy(config, checkpoint_dir)\n",
                "\n",
                "# Run inference on a dummy example. This example corresponds to observations produced by the DROID runtime.\n",
                "example = droid_policy.make_droid_example()\n",
                "result = policy.infer(example)\n",
                "\n",
                "# Delete the policy to free up memory.\n",
                "del policy\n",
                "\n",
                "print(\"Actions shape:\", result[\"actions\"].shape)"
            ]
        },
        {
            "cell_type": "markdown",
            "metadata": {},
            "source": [
                "## RPC communication"
            ]
        },
        {
            "cell_type": "markdown",
            "metadata": {},
            "source": [
                "load model"
            ]
        },
        {
            "cell_type": "code",
            "execution_count": 5,
            "metadata": {},
            "outputs": [],
            "source": [
                "config = _config.get_config(\"pi0_droid\")\n",
                "checkpoint_dir = download.maybe_download(\"gs://openpi-assets/checkpoints/pi0_droid\")\n",
                "\n",
                "# Create a trained policy.\n",
                "policy = _policy_config.create_trained_policy(config, checkpoint_dir)\n",
                "\n"
            ]
        },
        {
            "cell_type": "code",
            "execution_count": null,
            "metadata": {},
            "outputs": [],
            "source": [
                "config = _config.get_config(\"pi0_fast_droid\")\n",
                "checkpoint_dir = download.maybe_download(\"gs://openpi-assets/checkpoints/pi0_fast_droid\")\n",
                "\n",
                "# Create a trained policy.\n",
                "policy = _policy_config.create_trained_policy(config, checkpoint_dir)"
            ]
        },
        {
            "cell_type": "code",
            "execution_count": null,
            "metadata": {},
            "outputs": [],
            "source": [
                "# delete current policy to free up memory, then load a new one\n",
                "del policy"
            ]
        },
        {
            "cell_type": "code",
            "execution_count": 6,
            "metadata": {},
            "outputs": [
                {
                    "name": "stdout",
                    "output_type": "stream",
                    "text": [
                        "Actions shape: (10, 8)\n"
                    ]
                }
            ],
            "source": [
                "# Run inference on a dummy example. This example corresponds to observations produced by the DROID runtime.\n",
                "example = droid_policy.make_droid_example()\n",
                "result = policy.infer(example)\n",
                "print(\"Actions shape:\", result[\"actions\"].shape)"
            ]
        },
        {
            "cell_type": "code",
            "execution_count": 18,
            "metadata": {},
            "outputs": [],
            "source": [
                "import pyrealsense2 as rs\n",
                "import numpy as np\n",
                "import cv2\n",
                "import matplotlib.pyplot as plt\n",
                "\n",
                "\n",
                "\n",
                "class RealSenseCamera:\n",
                "    def __init__(self, serial_number, width=640, height=480, fps=30):\n",
                "        self.serial = serial_number\n",
                "        self.pipeline = rs.pipeline()\n",
                "        self.config = rs.config()\n",
                "        self.config.enable_device(self.serial)\n",
                "        self.config.enable_stream(rs.stream.color, width, height, rs.format.bgr8, fps)\n",
                "        self.pipeline.start(self.config)\n",
                "\n",
                "\n",
                "\n",
                "\n",
                "    def get_image(self):\n",
                "        frames = self.pipeline.wait_for_frames()\n",
                "        color_frame = frames.get_color_frame()\n",
                "        if not color_frame:\n",
                "            return None\n",
                "\n",
                "        bgr = np.asanyarray(color_frame.get_data())\n",
                "        rgb = cv2.cvtColor(bgr, cv2.COLOR_BGR2RGB)\n",
                "\n",
                "\n",
                "\n",
                "        return rgb\n",
                "\n",
                "    def release(self):\n",
                "        self.pipeline.stop()\n",
                "\n",
                "\n",
                "\n",
                "\n",
                "# camera serial numbers\n",
                "serial_left = \"948522071060\"\n",
                "serial_wrist = \"815412071252\"\n",
                "serial_right = \"838212074411\"\n",
                "\n",
                "# # initialize cameras\n",
                "cam_left = RealSenseCamera(serial_left)\n",
                "cam_wrist = RealSenseCamera(serial_wrist)\n",
                "cam_right = RealSenseCamera(serial_right)\n"
            ]
        },
        {
            "cell_type": "code",
            "execution_count": null,
            "metadata": {},
            "outputs": [],
            "source": [
                "\n",
                "# img_left = cam_left.get_image()\n",
                "# img_wrist = cam_wrist.get_image()\n",
                "from openpi_client import image_tools\n",
                "\n",
                "img_left = image_tools.resize_with_pad(\n",
                "                        cam_left.get_image(), 224, 224\n",
                "                    )\n",
                "img_wrist = image_tools.resize_with_pad(\n",
                "                        cam_wrist.get_image(), 224, 224\n",
                "                    )\n",
                "\n",
                "img_right = image_tools.resize_with_pad(\n",
                "                        cam_right.get_image(), 224, 224\n",
                "                    )\n",
                "\n",
                "# combine the two images\n",
                "combined = np.hstack((img_left, img_wrist, img_right))  # shape (224, 672, 3)\n",
                "\n",
                "# display the combined image\n",
                "plt.figure(figsize=(8, 4))\n",
                "plt.imshow(combined)\n",
                "plt.title(\"Left + Wrist + Right (RGB 224x224)\")\n",
                "plt.axis('off')\n",
                "plt.show()\n",
                "\n",
                "\n",
                "\n"
            ]
        },
        {
            "cell_type": "code",
            "execution_count": null,
            "metadata": {},
            "outputs": [],
            "source": [
                "cam_left.release()\n",
                "cam_wrist.release()\n",
                "cam_right.release()"
            ]
        },
        {
            "cell_type": "code",
            "execution_count": null,
            "metadata": {},
            "outputs": [],
            "source": [
                "# vla_policy_client\n",
                "import Pyro5.api\n",
                "import numpy as np\n",
                "import time\n",
                "from openpi_client import image_tools\n",
                "\n",
                "ns = Pyro5.api.locate_ns()  # Locate the name server\n",
                "uri = ns.lookup(\"pi0_controller\")  # Use the name server to look up the URI\n",
                "# uri = \"PYRO:obj_556d727dadc34b1f8ca063985999cc83@localhost:36929\"  # <-- change URI\n",
                "controller = Pyro5.api.Proxy(uri)\n",
                "\n",
                "# prompt\n",
                "prompt = \"pick up the orange toy\"\n",
                "\n",
                "MAX_STEPS = 5000  # maximum number of steps to run\n",
                "video_buffer = []  # buffer to store video frames\n",
                "\n",
                "# dummy action\n",
                "action = np.zeros((10,8), dtype=np.float32)\n",
                "action_list = action.tolist()  # convert to list for sending\n",
                "\n",
                "for step in range(MAX_STEPS):\n",
                "    start = time.time()\n",
                "    print(f\"\\n=== Step {step} ===\")\n",
                "    data_to_send = {\n",
                "        \"action\": action_list,\n",
                "        \"step\": step\n",
                "    }\n",
                "    start1 = time.time()\n",
                "    obs = controller.step(data_to_send)\n",
                "    end1 = time.time()\n",
                "    print(f\"Controller step took {end1 - start1:.2f} seconds\")\n",
                "\n",
                "    img_left = image_tools.resize_with_pad(\n",
                "                            cam_left.get_image(), 224, 224\n",
                "                        )\n",
                "    img_wrist = image_tools.resize_with_pad(\n",
                "                            cam_wrist.get_image(), 224, 224\n",
                "                        )\n",
                "    img_right = image_tools.resize_with_pad(\n",
                "                            cam_right.get_image(), 224, 224\n",
                "                        )\n",
                "    \n",
                "    # save the images\n",
                "    combined = np.hstack([img_left, img_right, img_wrist])\n",
                "    video_buffer.append(combined)\n",
                "\n",
                "    observation = {\n",
                "        # \"observation/exterior_image_1_left\": np.array(obs[\"image_left\"], dtype=np.uint8),\n",
                "        # \"observation/wrist_image_left\": np.array(obs[\"image_wrist\"], dtype=np.uint8),\n",
                "        \"observation/exterior_image_1_left\": img_left,\n",
                "        \"observation/wrist_image_left\": img_wrist,\n",
                "        \"observation/joint_position\": np.array(obs[\"robot_state\"], dtype=np.float32),\n",
                "        \"observation/gripper_position\": np.array([obs[\"gripper_state\"]], dtype=np.float32),  \n",
                "        \"prompt\": prompt,\n",
                "    }\n",
                "\n",
                "    result = policy.infer(observation)\n",
                "    action_list = result[\"actions\"].tolist()\n",
                "    end2 = time.time()\n",
                "    print(f\"Inference took {end2 - end1:.2f} seconds\")\n",
                "    print(f\"Action at step {step}:\", action_list[0])\n",
                "    end = time.time()\n",
                "    print(f\"Step {step} took {end - start:.2f} seconds\")\n"
            ]
        },
        {
            "cell_type": "code",
            "execution_count": null,
            "metadata": {},
            "outputs": [],
            "source": [
                "import imageio\n",
                "import cv2\n",
                "\n",
                "\n",
                "gif_path = \"pi0_fast_deploy_1.gif\"\n",
                "imageio.mimsave(gif_path, video_buffer, duration=0.5)\n",
                "print(f\"GIF saved:{gif_path}\")"
            ]
        },
        {
            "cell_type": "code",
            "execution_count": null,
            "metadata": {},
            "outputs": [],
            "source": [
                "from IPython.display import Image\n",
                "Image(filename=\"pi0_fast_deploy_1.gif\")"
            ]
        }
    ],
    "metadata": {
        "kernelspec": {
            "display_name": "openpi",
            "language": "python",
            "name": "python3"
        },
        "language_info": {
            "codemirror_mode": {
                "name": "ipython",
                "version": 3
            },
            "file_extension": ".py",
            "mimetype": "text/x-python",
            "name": "python",
            "nbconvert_exporter": "python",
            "pygments_lexer": "ipython3",
            "version": "3.11.13"
        }
    },
    "nbformat": 4,
    "nbformat_minor": 2
}
